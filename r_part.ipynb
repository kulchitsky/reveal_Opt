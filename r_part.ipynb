{
 "cells": [
  {
   "cell_type": "markdown",
   "metadata": {
    "slideshow": {
     "slide_type": "slide"
    }
   },
   "source": [
    "<h2 align=\"center\">Проект №4</h2>\n",
    "<h2 align=\"center\">Портфельная оптимизация</h2>\n",
    "<br>\n",
    "<h4 align=\"center\">Маргарита Бурова, Артем Дремов, Камель Есимова, Юрий Кульчицкий, Ольга Сабирова</h4>\n",
    "<br>\n",
    "\n",
    "<h5 align=\"center\">ММОС16</h5>"
   ]
  },
  {
   "cell_type": "markdown",
   "metadata": {
    "collapsed": false,
    "slideshow": {
     "slide_type": "slide"
    }
   },
   "source": [
    "<h3 align=\"center\">Задача 1. Quadratic programming</h3>"
   ]
  },
  {
   "cell_type": "markdown",
   "metadata": {
    "slideshow": {
     "slide_type": "subslide"
    }
   },
   "source": [
    "## Постановка задачи\n",
    "\n",
    "Решить задачу квадратичного программирования\n",
    "$$\n",
    "\\begin{align}{c}\n",
    "\\min -\\bar{p}^Tx + \\mu x^T \\Sigma x\\\\\n",
    "\\sum x_i = 1,\\ x_i \\geq 0\n",
    "\\end{align}\n",
    "$$\n",
    "для большого количества различных положительных $\\mu$ (например, 100 значений, логарифмически распределенных от 1 до $10^7$). Нарисовать графики $\\bar{p}^T x$ от стандартного отклонения $(x^T \\sigma x)^{1/2}$, а также картинки, как на (рис. 4.12, стр. 187, Boyd)."
   ]
  },
  {
   "cell_type": "markdown",
   "metadata": {
    "slideshow": {
     "slide_type": "subslide"
    }
   },
   "source": [
    "### Первый набор данных\n",
    "$$\\overline{p}=\\begin{bmatrix}\n",
    "0.12\\\\ \n",
    "0.10\\\\ \n",
    "0.07\\\\ \n",
    "0.03\n",
    "\\end{bmatrix}, \\ \\ \\ \\sum= \\begin{bmatrix}\n",
    "0.0064 & 0.0008 & -0.0011 & 0\\\\ \n",
    "0.0008 & 0.0025 & 0 & 0\\\\ \n",
    "-0.0011 & 0 & 0.0004 & 0\\\\ \n",
    "0 & 0 & 0 & 0\n",
    "\\end{bmatrix}$$\n",
    "\n",
    "В наборе четыре инструмента, один из которых безрисковый и дает доход в 3%."
   ]
  },
  {
   "cell_type": "markdown",
   "metadata": {
    "slideshow": {
     "slide_type": "slide"
    }
   },
   "source": [
    "<h3 align=\"center\">Методы решения задач квадратичного программирования</h3>"
   ]
  },
  {
   "cell_type": "markdown",
   "metadata": {
    "slideshow": {
     "slide_type": "subslide"
    }
   },
   "source": [
    "## Барьерный метод: описание\n",
    "\n",
    "Для использования этого метода задача переформулируется следующим образом:\n",
    "$$\n",
    "\\begin{array}{rl}\n",
    "\\text{minimize} & (m / \\varepsilon) f_0(x) + \\phi(x)\\\\\n",
    "\\text{subject to} & Ax = b\n",
    "\\end{array}\n",
    "$$\n",
    "\n",
    "Идея метода состоит в решении последовательности минимизационных подзадач: вычисляется значение $x^*(t)$ для возрастающей последовательности из $t$, пока $t < m / \\varepsilon$.\n",
    "\n"
   ]
  },
  {
   "cell_type": "markdown",
   "metadata": {
    "slideshow": {
     "slide_type": "subslide"
    }
   },
   "source": [
    "## Барьерный метод: алгоритм\n",
    "Алгоритм выглядит следующим образом: сначала задаются $x, t := t^{(0)} = 0, \\mu > 1, \\varepsilon > 0$. Затем повторяются следующие операции:\n",
    "1. Центрируется шаг.\n",
    "Вычисляется $x^*(t)$, минимизируя $tf_0 + \\phi$ относительно $Ax = b$, начиная с $x$.\n",
    "2. Обновляется значение $x := x^*(t)$.\n",
    "3. Проверяется выполнение критерия остановки: выход из цикла при $m/t < \\varepsilon$.\n",
    "4. Увеличивается $t$: $t := \\mu t$.\n",
    "\n",
    "\n",
    "* Метод останавливается, когда $f_0(x) - p^* \\leq \\varepsilon$ (следует из $f_0(x^*(t)) - p^* \\leq m / t))\n",
    "\n",
    "* Центрирование обычно делается методом Ньютона, начиная от текущего значения $x$.\n",
    "\n",
    "* Выбор $\\mu$ подразумевает компромисс: большое значение $\\mu$ означает меньшее число внешних итераций, большее -- большее; обычно выбирают значения от 10 до 20.\n",
    "\n",
    "* Используется несколько эвристик для выбора $t^{(0)}$."
   ]
  },
  {
   "cell_type": "markdown",
   "metadata": {
    "slideshow": {
     "slide_type": "subslide"
    }
   },
   "source": [
    "## Барьерный метод: анализ сходимости\n",
    "Число внешних итераций (центрирования) задается, как\n",
    "$$\n",
    "\\bigg\\lceil \\dfrac{\\log(m / \\varepsilon t^{(0)}))}{\\log \\mu}\\bigg\\rceil\n",
    "$$\n",
    "плюс изначальный шаг центрирования (для вычисления $x^*(t^{(0)})$).\n",
    "\n",
    "Задача центрирования:\n",
    "$$\n",
    "\\min t f_0(x) + \\phi(x)\n",
    "$$\n",
    "\n",
    "Для этого необходимо иметь результаты анализа сходимости метода Ньютона.\n",
    "\n",
    "* $tf_0 + \\phi$ должен иметь замкнутые подуровневые множества для $t \\geq t^{(0)}$\n",
    "* классический анализ предполагает строгую выпуклость и выполнение условия Липшица\n",
    "* анализ через самосогласованность предполагает самосогласованность функции"
   ]
  },
  {
   "cell_type": "markdown",
   "metadata": {
    "slideshow": {
     "slide_type": "subslide"
    }
   },
   "source": [
    "## Метод Ньютона\n",
    "\n",
    "Итеративный метод поиска корней уравнения $f'(x) = 0$, при этом $f$ должна быть дифференцируемой.\n",
    "$$\n",
    "x_{n+1} = x_n - \\dfrac{f'(x_n)}{f''(x_n)}\n",
    "$$"
   ]
  },
  {
   "cell_type": "markdown",
   "metadata": {
    "slideshow": {
     "slide_type": "subslide"
    }
   },
   "source": [
    "### Результаты численных экспериментов на малом наборе данных\n",
    "<table border=\"0\">\n",
    "  <tr>    \n",
    "  <td><img src=\"plot1.jpg\" alt=\"\" align=\"left\" /> </td>\n",
    "  <td><img src=\"plot2.jpg\" alt=\"\" align=\"right\" /></td>\n",
    "  </tr>\n",
    "</table>"
   ]
  },
  {
   "cell_type": "markdown",
   "metadata": {
    "slideshow": {
     "slide_type": "subslide"
    }
   },
   "source": [
    "### Результаты численных экспериментов на большом наборе данных\n",
    "<table border=\"0\">\n",
    "  <tr>    \n",
    "  <td><img src=\"m1.jpg\" alt=\"\" align=\"left\" /> </td>\n",
    "  <td><img src=\"m2.jpg\" alt=\"\" align=\"right\" /></td>\n",
    "  </tr>\n",
    "</table>"
   ]
  },
  {
   "cell_type": "markdown",
   "metadata": {
    "slideshow": {
     "slide_type": "slide"
    }
   },
   "source": [
    "<h1 align=\"center\">Задача 2. Semidefinite programming</h1>"
   ]
  },
  {
   "cell_type": "markdown",
   "metadata": {
    "slideshow": {
     "slide_type": "subslide"
    }
   },
   "source": [
    "### Постановка задачи:\n",
    "\n",
    "Предполагается, что дана нормально распределенная случайная величина $p\\sim\\mathcal{N}(\\bar{p}, \\Sigma)$. Требуется сформулировать задачу\n",
    "$$\n",
    "\\begin{array}{c}\n",
    "\\max \\bar{p}^T x\\\\\n",
    "prob(p^Tx\\leq 0) \\leq \\eta\\\\\n",
    "\\sum x_i = 1,\\ x_i \\geq 0\n",
    "\\end{array}\n",
    "$$\n",
    "как задачу выпуклой оптимизации с параметром $\\eta < 1/2$, и решить ее для большого числа разных $\\eta$ от $10^{-4}$ до $10^{-1}$, нарисовав оптимальные $\\bar{p}^T x$ от $\\eta$."
   ]
  },
  {
   "cell_type": "markdown",
   "metadata": {
    "slideshow": {
     "slide_type": "subslide"
    }
   },
   "source": [
    "$$\n",
    "\\begin{array}{c}\n",
    "\\max \\bar{p}^T x\\\\\n",
    "prob(p^Tx\\leq 0) \\leq \\eta\\\\\n",
    "\\sum x_i = 1,\\ x_i \\geq 0\n",
    "\\end{array}\n",
    "$$\n",
    "Но\n",
    "$$\n",
    "prob(p^Tx\\leq 0) = \\Phi\\left(\n",
    "\\dfrac{-\\bar{p}^T x}{\\lVert \\Sigma^{1/2} x \\rVert_2}\n",
    "\\right)\n",
    "$$\n",
    "Теперь\n",
    "$$\n",
    "\\begin{array}{c}\n",
    "\\max \\bar{p}^T x\\\\\n",
    "-\\bar{p}^Tx - \\Phi^{-1}(\\eta)\\lVert \\Sigma^{1/2} x \\rVert_2 \\leq 0\\\\\n",
    "\\sum x_i = 1,\\ x_i \\geq 0\n",
    "\\end{array}\n",
    "$$"
   ]
  },
  {
   "cell_type": "markdown",
   "metadata": {
    "slideshow": {
     "slide_type": "subslide"
    }
   },
   "source": [
    "####  Second-order cone program (SOCP)\n",
    "\n",
    "То, что мы вывели раньше, формулируется в терминах SOCP:\n",
    "$$\n",
    "\\begin{array}{rl}\n",
    "\\text{minimize} & f^T x\\\\\n",
    "\\text{subject to} & -\\lVert A_i x + b_i \\rVert_2 \\leq c_i^T x + d_i, i = 1,\\ldots,m\\\\\n",
    "\\end{array}\n",
    "$$\n",
    "Сформулируем нашу задачу в этих терминах\n",
    "$$\n",
    "\\begin{array}{rl}\n",
    "\\text{minimize} & -\\bar{p}^T x\\\\\n",
    "\\text{subject to} & -\\lVert \\Sigma^{1/2} x \\rVert_2 \\leq \\dfrac{1}{\\Phi^{-1}(\\eta)}\\bar{p}^Tx \\\\\n",
    "& \\sum x_i = 1\\\\ \n",
    "& \\mathbf{diag}(x_i) \\succeq 0\n",
    "\\end{array}\n",
    "$$\n",
    "Ограничения встроились бы в виде стандартной комбинации двух неравенств, которую мы бы преобразовали так, чтобы все выражалось через норму, но здесь этого делать не будем, так как мы найдем новую эквивалентную задачу.\n"
   ]
  },
  {
   "cell_type": "markdown",
   "metadata": {
    "slideshow": {
     "slide_type": "subslide"
    }
   },
   "source": [
    "#### Semidefinite programming (SDP)\n",
    "$$\n",
    "\\begin{array}{rl}\n",
    "\\text{minimize} & c^T x\\\\\n",
    "\\text{subject to} & x_1 F_1 + x_2 F_2 + \\ldots + x_n F_n + G \\preceq 0\\\\\n",
    "& Ax = b\n",
    "\\end{array}\n",
    "$$\n",
    "Задача такого вида, где $F_i, G \\in \\mathbb{S}^k$, называется задачей полуопределенного программирования, и именно ее мы и будем решать численно. Для задачи конического программирования второго порядка\n",
    "$$\n",
    "\\begin{array}{rl}\n",
    "\\text{minimize} & f^T x\\\\\n",
    "\\text{subject to} & \\lVert A_i x + b_i \\rVert_2 \\leq c_i^T x + d_i, i = 1,\\ldots,m\\\\\n",
    "\\end{array}\n",
    "$$\n",
    "существует эквивалентная задача полуопределенного программирования:\n",
    "$$\n",
    "\\begin{array}{rl}\n",
    "\\text{minimize} & f^T x\\\\\n",
    "\\text{subject to} & \\left[\n",
    "\\begin{array}{cc}\n",
    "(c_i^T x + d_i)I & A_ix+b_i\\\\\n",
    "(A_i x + b_i)^T & c_i^T x + d_i\n",
    "\\end{array}\n",
    "\\right] \\succeq 0,\\ i = 1,\\ldots,m\n",
    "\\end{array}\n",
    "$$\n",
    "В нее уже можно будет внести наши ограничения явно."
   ]
  },
  {
   "cell_type": "markdown",
   "metadata": {
    "slideshow": {
     "slide_type": "subslide"
    }
   },
   "source": [
    "## Приведение нашей задачи к виду SDP\n",
    "$$\n",
    "\\begin{array}{rl}\n",
    "\\text{minimize} & -\\bar{p}^T x\\\\\n",
    "\\text{subject to} & \\left[\n",
    "\\begin{array}{ccc}\n",
    "\\left(\\dfrac{1}{\\Phi^{-1}(\\eta)}\\bar{p}^Tx\\right)I & -\\Sigma^{1/2}& 0\\\\\n",
    " {-\\Sigma^{1/2}}^T & \\dfrac{1}{\\Phi^{-1}(\\eta)}\\bar{p}^Tx & 0\\\\\n",
    "0  & 0 & \\mathbf{diag}(x)\n",
    "\\end{array}\n",
    "\\right] \\succeq 0,\\ i = 1,\\ldots,m\n",
    "\\end{array}\n",
    "$$\n",
    "Ограничение на единичную сумму иксов введем, разложив покомпонентно по иксам приведенную выше матрицу, а затем приписав к каждой из матриц справа снизу число 1, и определив соответствующий элемент матрицы $G$, как 1.\n",
    "\n",
    "Как мы будем разделять эту матрицу на компоненты? Подставляя в нее в качестве $x$ элементы базиса (векторы с единственной ненулевой координатой, равной единице)."
   ]
  },
  {
   "cell_type": "markdown",
   "metadata": {
    "slideshow": {
     "slide_type": "slide"
    }
   },
   "source": [
    "<h3 align=\"center\">Численное решение задачи</h3>"
   ]
  },
  {
   "cell_type": "code",
   "execution_count": null,
   "metadata": {
    "collapsed": true,
    "slideshow": {
     "slide_type": "subslide"
    }
   },
   "outputs": [],
   "source": []
  }
 ],
 "metadata": {
  "celltoolbar": "Slideshow",
  "kernelspec": {
   "display_name": "R",
   "language": "R",
   "name": "ir"
  },
  "language_info": {
   "codemirror_mode": "r",
   "file_extension": ".r",
   "mimetype": "text/x-r-source",
   "name": "R",
   "pygments_lexer": "r",
   "version": "3.3.2"
  },
  "livereveal": {
   "theme": "serif",
   "transition": "zoom",
   "width": 1600
  }
 },
 "nbformat": 4,
 "nbformat_minor": 2
}
